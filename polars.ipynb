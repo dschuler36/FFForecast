{
 "cells": [
  {
   "cell_type": "code",
   "id": "initial_id",
   "metadata": {
    "collapsed": true,
    "ExecuteTime": {
     "end_time": "2024-08-11T23:44:31.426614Z",
     "start_time": "2024-08-11T23:44:31.421890Z"
    }
   },
   "source": [
    "import os\n",
    "from src.config import config\n",
    "import polars as pl\n",
    "\n",
    "def read_pbp_agg(run_id: str) -> pl.DataFrame:\n",
    "    pbp_agg_path = config['local']['data_paths']['outputs']['play_by_play_agg']\n",
    "    pbp_filename = f'play_by_play_agg_{run_id}.parquet'\n",
    "    return pl.read_parquet(os.path.join(pbp_agg_path, pbp_filename))\n"
   ],
   "outputs": [],
   "execution_count": 66
  },
  {
   "metadata": {
    "ExecuteTime": {
     "end_time": "2024-08-11T23:45:20.387371Z",
     "start_time": "2024-08-11T23:45:20.378214Z"
    }
   },
   "cell_type": "code",
   "source": [
    "\n",
    "df = read_pbp_agg('20240809')\n",
    "df"
   ],
   "id": "6a465925563acff7",
   "outputs": [
    {
     "data": {
      "text/plain": [
       "shape: (22_671, 21)\n",
       "┌─────────────────┬──────┬───────────┬──────────┬───┬────────┬──────┬──────────┬───────────┐\n",
       "│ game_id         ┆ team ┆ home_away ┆ opponent ┆ … ┆ season ┆ week ┆ position ┆ curr_team │\n",
       "│ ---             ┆ ---  ┆ ---       ┆ ---      ┆   ┆ ---    ┆ ---  ┆ ---      ┆ ---       │\n",
       "│ str             ┆ str  ┆ str       ┆ str      ┆   ┆ i64    ┆ i64  ┆ str      ┆ str       │\n",
       "╞═════════════════╪══════╪═══════════╪══════════╪═══╪════════╪══════╪══════════╪═══════════╡\n",
       "│ 2020_07_JAX_LAC ┆ LAC  ┆ home      ┆ LAC      ┆ … ┆ 2020   ┆ 7    ┆ WR       ┆ NYJ       │\n",
       "│ 2022_12_PIT_IND ┆ PIT  ┆ away      ┆ PIT      ┆ … ┆ 2022   ┆ 12   ┆ RB       ┆ PIT       │\n",
       "│ 2022_19_LAC_JAX ┆ LAC  ┆ away      ┆ LAC      ┆ … ┆ 2022   ┆ 19   ┆ WR       ┆ LAC       │\n",
       "│ 2021_19_PIT_KC  ┆ PIT  ┆ away      ┆ PIT      ┆ … ┆ 2021   ┆ 19   ┆ QB       ┆ PIT       │\n",
       "│ 2023_05_JAX_BUF ┆ BUF  ┆ home      ┆ BUF      ┆ … ┆ 2023   ┆ 5    ┆ TE       ┆ BUF       │\n",
       "│ …               ┆ …    ┆ …         ┆ …        ┆ … ┆ …      ┆ …    ┆ …        ┆ …         │\n",
       "│ 2022_10_LAC_SF  ┆ LAC  ┆ away      ┆ LAC      ┆ … ┆ 2022   ┆ 10   ┆ RB       ┆ WAS       │\n",
       "│ 2021_13_ARI_CHI ┆ ARI  ┆ away      ┆ ARI      ┆ … ┆ 2021   ┆ 13   ┆ WR       ┆ TEN       │\n",
       "│ 2022_06_CIN_NO  ┆ CIN  ┆ away      ┆ CIN      ┆ … ┆ 2022   ┆ 6    ┆ TE       ┆ LAC       │\n",
       "│ 2023_14_NE_PIT  ┆ PIT  ┆ home      ┆ PIT      ┆ … ┆ 2023   ┆ 14   ┆ RB       ┆ PIT       │\n",
       "│ 2021_12_PIT_CIN ┆ PIT  ┆ away      ┆ PIT      ┆ … ┆ 2021   ┆ 12   ┆ WR       ┆ BUF       │\n",
       "└─────────────────┴──────┴───────────┴──────────┴───┴────────┴──────┴──────────┴───────────┘"
      ],
      "text/html": [
       "<div><style>\n",
       ".dataframe > thead > tr,\n",
       ".dataframe > tbody > tr {\n",
       "  text-align: right;\n",
       "  white-space: pre-wrap;\n",
       "}\n",
       "</style>\n",
       "<small>shape: (22_671, 21)</small><table border=\"1\" class=\"dataframe\"><thead><tr><th>game_id</th><th>team</th><th>home_away</th><th>opponent</th><th>player</th><th>player_id</th><th>passing_attempts</th><th>passing_touchdowns</th><th>passing_yards</th><th>rushing_attempts</th><th>rushing_yards</th><th>rushing_touchdowns</th><th>receptions</th><th>receiving_yards</th><th>receiving_touchdowns</th><th>fumbles</th><th>interceptions</th><th>season</th><th>week</th><th>position</th><th>curr_team</th></tr><tr><td>str</td><td>str</td><td>str</td><td>str</td><td>str</td><td>str</td><td>f64</td><td>f64</td><td>f64</td><td>f64</td><td>f64</td><td>f64</td><td>i32</td><td>f64</td><td>f64</td><td>f64</td><td>f64</td><td>i64</td><td>i64</td><td>str</td><td>str</td></tr></thead><tbody><tr><td>&quot;2020_07_JAX_LAC&quot;</td><td>&quot;LAC&quot;</td><td>&quot;home&quot;</td><td>&quot;LAC&quot;</td><td>&quot;M.Williams&quot;</td><td>&quot;00-0033536&quot;</td><td>0.0</td><td>0.0</td><td>0.0</td><td>0.0</td><td>0.0</td><td>0.0</td><td>3</td><td>4.0</td><td>0.0</td><td>0.0</td><td>0.0</td><td>2020</td><td>7</td><td>&quot;WR&quot;</td><td>&quot;NYJ&quot;</td></tr><tr><td>&quot;2022_12_PIT_IND&quot;</td><td>&quot;PIT&quot;</td><td>&quot;away&quot;</td><td>&quot;PIT&quot;</td><td>&quot;A.McFarland&quot;</td><td>&quot;00-0036336&quot;</td><td>0.0</td><td>0.0</td><td>0.0</td><td>6.0</td><td>30.0</td><td>0.0</td><td>2</td><td>11.0</td><td>0.0</td><td>0.0</td><td>0.0</td><td>2022</td><td>12</td><td>&quot;RB&quot;</td><td>&quot;PIT&quot;</td></tr><tr><td>&quot;2022_19_LAC_JAX&quot;</td><td>&quot;LAC&quot;</td><td>&quot;away&quot;</td><td>&quot;LAC&quot;</td><td>&quot;J.Palmer&quot;</td><td>&quot;00-0036988&quot;</td><td>0.0</td><td>0.0</td><td>0.0</td><td>0.0</td><td>0.0</td><td>0.0</td><td>6</td><td>31.0</td><td>0.0</td><td>0.0</td><td>0.0</td><td>2022</td><td>19</td><td>&quot;WR&quot;</td><td>&quot;LAC&quot;</td></tr><tr><td>&quot;2021_19_PIT_KC&quot;</td><td>&quot;PIT&quot;</td><td>&quot;away&quot;</td><td>&quot;PIT&quot;</td><td>&quot;B.Roethlisberger&quot;</td><td>&quot;00-0022924&quot;</td><td>46.0</td><td>2.0</td><td>201.0</td><td>2.0</td><td>-1.0</td><td>0.0</td><td>0</td><td>0.0</td><td>0.0</td><td>2.0</td><td>0.0</td><td>2021</td><td>19</td><td>&quot;QB&quot;</td><td>&quot;PIT&quot;</td></tr><tr><td>&quot;2023_05_JAX_BUF&quot;</td><td>&quot;BUF&quot;</td><td>&quot;home&quot;</td><td>&quot;BUF&quot;</td><td>&quot;D.Knox&quot;</td><td>&quot;00-0035689&quot;</td><td>0.0</td><td>0.0</td><td>0.0</td><td>0.0</td><td>0.0</td><td>0.0</td><td>6</td><td>17.0</td><td>0.0</td><td>0.0</td><td>0.0</td><td>2023</td><td>5</td><td>&quot;TE&quot;</td><td>&quot;BUF&quot;</td></tr><tr><td>&hellip;</td><td>&hellip;</td><td>&hellip;</td><td>&hellip;</td><td>&hellip;</td><td>&hellip;</td><td>&hellip;</td><td>&hellip;</td><td>&hellip;</td><td>&hellip;</td><td>&hellip;</td><td>&hellip;</td><td>&hellip;</td><td>&hellip;</td><td>&hellip;</td><td>&hellip;</td><td>&hellip;</td><td>&hellip;</td><td>&hellip;</td><td>&hellip;</td><td>&hellip;</td></tr><tr><td>&quot;2022_10_LAC_SF&quot;</td><td>&quot;LAC&quot;</td><td>&quot;away&quot;</td><td>&quot;LAC&quot;</td><td>&quot;A.Ekeler&quot;</td><td>&quot;00-0033699&quot;</td><td>0.0</td><td>0.0</td><td>0.0</td><td>6.0</td><td>24.0</td><td>0.0</td><td>12</td><td>39.0</td><td>0.0</td><td>0.0</td><td>0.0</td><td>2022</td><td>10</td><td>&quot;RB&quot;</td><td>&quot;WAS&quot;</td></tr><tr><td>&quot;2021_13_ARI_CHI&quot;</td><td>&quot;ARI&quot;</td><td>&quot;away&quot;</td><td>&quot;ARI&quot;</td><td>&quot;D.Hopkins&quot;</td><td>&quot;00-0030564&quot;</td><td>0.0</td><td>0.0</td><td>0.0</td><td>0.0</td><td>0.0</td><td>0.0</td><td>2</td><td>32.0</td><td>1.0</td><td>0.0</td><td>0.0</td><td>2021</td><td>13</td><td>&quot;WR&quot;</td><td>&quot;TEN&quot;</td></tr><tr><td>&quot;2022_06_CIN_NO&quot;</td><td>&quot;CIN&quot;</td><td>&quot;away&quot;</td><td>&quot;CIN&quot;</td><td>&quot;H.Hurst&quot;</td><td>&quot;00-0034830&quot;</td><td>0.0</td><td>0.0</td><td>0.0</td><td>0.0</td><td>0.0</td><td>0.0</td><td>3</td><td>21.0</td><td>0.0</td><td>0.0</td><td>0.0</td><td>2022</td><td>6</td><td>&quot;TE&quot;</td><td>&quot;LAC&quot;</td></tr><tr><td>&quot;2023_14_NE_PIT&quot;</td><td>&quot;PIT&quot;</td><td>&quot;home&quot;</td><td>&quot;PIT&quot;</td><td>&quot;N.Harris&quot;</td><td>&quot;00-0036893&quot;</td><td>0.0</td><td>0.0</td><td>0.0</td><td>12.0</td><td>29.0</td><td>0.0</td><td>3</td><td>19.0</td><td>0.0</td><td>0.0</td><td>0.0</td><td>2023</td><td>14</td><td>&quot;RB&quot;</td><td>&quot;PIT&quot;</td></tr><tr><td>&quot;2021_12_PIT_CIN&quot;</td><td>&quot;PIT&quot;</td><td>&quot;away&quot;</td><td>&quot;PIT&quot;</td><td>&quot;C.Claypool&quot;</td><td>&quot;00-0036326&quot;</td><td>0.0</td><td>0.0</td><td>0.0</td><td>0.0</td><td>0.0</td><td>0.0</td><td>8</td><td>82.0</td><td>0.0</td><td>0.0</td><td>0.0</td><td>2021</td><td>12</td><td>&quot;WR&quot;</td><td>&quot;BUF&quot;</td></tr></tbody></table></div>"
      ]
     },
     "execution_count": 70,
     "metadata": {},
     "output_type": "execute_result"
    }
   ],
   "execution_count": 70
  },
  {
   "metadata": {
    "ExecuteTime": {
     "end_time": "2024-08-11T23:23:29.318737Z",
     "start_time": "2024-08-11T23:23:29.301142Z"
    }
   },
   "cell_type": "code",
   "source": [
    "from src.utils.points_calc import calculate_fantasy_points\n",
    "from src.utils.points_config import STANDARD_HALF_PPR\n",
    "\n",
    "    # df['fantasy_points'] = df.apply(lambda x: calculate_fantasy_points(STANDARD_HALF_PPR, x.passing_yards, x.passing_touchdowns,\n",
    "    #                                                                    x.interceptions, x.receptions, x.receiving_yards,\n",
    "    #                                                                    x.receiving_touchdowns, x.rushing_yards,\n",
    "    #                                                                    x.rushing_touchdowns, x.fumbles), axis=1)\n",
    "\n",
    "df.with_columns(pl.struct(['game_id', 'passing_touchdowns', 'interceptions', 'receptions', 'receiving_yards', 'receiving_touchdowns', 'rushing_yards', 'rushing_touchdowns', 'fumbles']).apply(lambda row: calculate_fantasy_points(STANDARD_HALF_PPR, x['passing_yards'])))"
   ],
   "id": "df6b2f898fa01189",
   "outputs": [
    {
     "ename": "AttributeError",
     "evalue": "'Expr' object has no attribute 'apply'",
     "output_type": "error",
     "traceback": [
      "\u001B[0;31m---------------------------------------------------------------------------\u001B[0m",
      "\u001B[0;31mAttributeError\u001B[0m                            Traceback (most recent call last)",
      "Cell \u001B[0;32mIn[42], line 9\u001B[0m\n\u001B[1;32m      2\u001B[0m \u001B[38;5;28;01mfrom\u001B[39;00m \u001B[38;5;21;01msrc\u001B[39;00m\u001B[38;5;21;01m.\u001B[39;00m\u001B[38;5;21;01mutils\u001B[39;00m\u001B[38;5;21;01m.\u001B[39;00m\u001B[38;5;21;01mpoints_config\u001B[39;00m \u001B[38;5;28;01mimport\u001B[39;00m STANDARD_HALF_PPR\n\u001B[1;32m      4\u001B[0m     \u001B[38;5;66;03m# df['fantasy_points'] = df.apply(lambda x: calculate_fantasy_points(STANDARD_HALF_PPR, x.passing_yards, x.passing_touchdowns,\u001B[39;00m\n\u001B[1;32m      5\u001B[0m     \u001B[38;5;66;03m#                                                                    x.interceptions, x.receptions, x.receiving_yards,\u001B[39;00m\n\u001B[1;32m      6\u001B[0m     \u001B[38;5;66;03m#                                                                    x.receiving_touchdowns, x.rushing_yards,\u001B[39;00m\n\u001B[1;32m      7\u001B[0m     \u001B[38;5;66;03m#                                                                    x.rushing_touchdowns, x.fumbles), axis=1)\u001B[39;00m\n\u001B[0;32m----> 9\u001B[0m df\u001B[38;5;241m.\u001B[39mwith_columns(\u001B[43mpl\u001B[49m\u001B[38;5;241;43m.\u001B[39;49m\u001B[43mstruct\u001B[49m\u001B[43m(\u001B[49m\u001B[43m[\u001B[49m\u001B[38;5;124;43m'\u001B[39;49m\u001B[38;5;124;43mgame_id\u001B[39;49m\u001B[38;5;124;43m'\u001B[39;49m\u001B[43m,\u001B[49m\u001B[43m \u001B[49m\u001B[38;5;124;43m'\u001B[39;49m\u001B[38;5;124;43mpassing_touchdowns\u001B[39;49m\u001B[38;5;124;43m'\u001B[39;49m\u001B[43m,\u001B[49m\u001B[43m \u001B[49m\u001B[38;5;124;43m'\u001B[39;49m\u001B[38;5;124;43minterceptions\u001B[39;49m\u001B[38;5;124;43m'\u001B[39;49m\u001B[43m,\u001B[49m\u001B[43m \u001B[49m\u001B[38;5;124;43m'\u001B[39;49m\u001B[38;5;124;43mreceptions\u001B[39;49m\u001B[38;5;124;43m'\u001B[39;49m\u001B[43m,\u001B[49m\u001B[43m \u001B[49m\u001B[38;5;124;43m'\u001B[39;49m\u001B[38;5;124;43mreceiving_yards\u001B[39;49m\u001B[38;5;124;43m'\u001B[39;49m\u001B[43m,\u001B[49m\u001B[43m \u001B[49m\u001B[38;5;124;43m'\u001B[39;49m\u001B[38;5;124;43mreceiving_touchdowns\u001B[39;49m\u001B[38;5;124;43m'\u001B[39;49m\u001B[43m,\u001B[49m\u001B[43m \u001B[49m\u001B[38;5;124;43m'\u001B[39;49m\u001B[38;5;124;43mrushing_yards\u001B[39;49m\u001B[38;5;124;43m'\u001B[39;49m\u001B[43m,\u001B[49m\u001B[43m \u001B[49m\u001B[38;5;124;43m'\u001B[39;49m\u001B[38;5;124;43mrushing_touchdowns\u001B[39;49m\u001B[38;5;124;43m'\u001B[39;49m\u001B[43m,\u001B[49m\u001B[43m \u001B[49m\u001B[38;5;124;43m'\u001B[39;49m\u001B[38;5;124;43mfumbles\u001B[39;49m\u001B[38;5;124;43m'\u001B[39;49m\u001B[43m]\u001B[49m\u001B[43m)\u001B[49m\u001B[38;5;241;43m.\u001B[39;49m\u001B[43mapply\u001B[49m(\u001B[38;5;28;01mlambda\u001B[39;00m row: calculate_fantasy_points(STANDARD_HALF_PPR, x[\u001B[38;5;124m'\u001B[39m\u001B[38;5;124mpassing_yards\u001B[39m\u001B[38;5;124m'\u001B[39m])))\n",
      "\u001B[0;31mAttributeError\u001B[0m: 'Expr' object has no attribute 'apply'"
     ]
    }
   ],
   "execution_count": 42
  },
  {
   "metadata": {
    "ExecuteTime": {
     "end_time": "2024-08-11T23:45:26.317755Z",
     "start_time": "2024-08-11T23:45:26.258172Z"
    }
   },
   "cell_type": "code",
   "source": [
    "df.with_columns(pl.struct('passing_yards', 'passing_touchdowns', 'interceptions', 'receptions', 'receiving_yards', 'receiving_touchdowns', 'rushing_yards', 'rushing_touchdowns', 'fumbles') \\\n",
    "                .map_elements(lambda x: calculate_fantasy_points(STANDARD_HALF_PPR, x['passing_yards'], x['passing_touchdowns'],\n",
    "x['interceptions'], x['receptions'], x['receiving_yards'], x['receiving_touchdowns'], x['rushing_yards'], x['rushing_touchdowns'], x['fumbles']), return_dtype=pl.Float64).alias('fantasy_points'))"
   ],
   "id": "7c645d78436409b9",
   "outputs": [
    {
     "data": {
      "text/plain": [
       "shape: (22_671, 22)\n",
       "┌─────────────────┬──────┬───────────┬──────────┬───┬──────┬──────────┬───────────┬────────────────┐\n",
       "│ game_id         ┆ team ┆ home_away ┆ opponent ┆ … ┆ week ┆ position ┆ curr_team ┆ fantasy_points │\n",
       "│ ---             ┆ ---  ┆ ---       ┆ ---      ┆   ┆ ---  ┆ ---      ┆ ---       ┆ ---            │\n",
       "│ str             ┆ str  ┆ str       ┆ str      ┆   ┆ i64  ┆ str      ┆ str       ┆ f64            │\n",
       "╞═════════════════╪══════╪═══════════╪══════════╪═══╪══════╪══════════╪═══════════╪════════════════╡\n",
       "│ 2020_07_JAX_LAC ┆ LAC  ┆ home      ┆ LAC      ┆ … ┆ 7    ┆ WR       ┆ NYJ       ┆ 1.9            │\n",
       "│ 2022_12_PIT_IND ┆ PIT  ┆ away      ┆ PIT      ┆ … ┆ 12   ┆ RB       ┆ PIT       ┆ 5.1            │\n",
       "│ 2022_19_LAC_JAX ┆ LAC  ┆ away      ┆ LAC      ┆ … ┆ 19   ┆ WR       ┆ LAC       ┆ 6.1            │\n",
       "│ 2021_19_PIT_KC  ┆ PIT  ┆ away      ┆ PIT      ┆ … ┆ 19   ┆ QB       ┆ PIT       ┆ 5.91           │\n",
       "│ 2023_05_JAX_BUF ┆ BUF  ┆ home      ┆ BUF      ┆ … ┆ 5    ┆ TE       ┆ BUF       ┆ 4.7            │\n",
       "│ …               ┆ …    ┆ …         ┆ …        ┆ … ┆ …    ┆ …        ┆ …         ┆ …              │\n",
       "│ 2022_10_LAC_SF  ┆ LAC  ┆ away      ┆ LAC      ┆ … ┆ 10   ┆ RB       ┆ WAS       ┆ 12.3           │\n",
       "│ 2021_13_ARI_CHI ┆ ARI  ┆ away      ┆ ARI      ┆ … ┆ 13   ┆ WR       ┆ TEN       ┆ 10.2           │\n",
       "│ 2022_06_CIN_NO  ┆ CIN  ┆ away      ┆ CIN      ┆ … ┆ 6    ┆ TE       ┆ LAC       ┆ 3.6            │\n",
       "│ 2023_14_NE_PIT  ┆ PIT  ┆ home      ┆ PIT      ┆ … ┆ 14   ┆ RB       ┆ PIT       ┆ 6.3            │\n",
       "│ 2021_12_PIT_CIN ┆ PIT  ┆ away      ┆ PIT      ┆ … ┆ 12   ┆ WR       ┆ BUF       ┆ 12.2           │\n",
       "└─────────────────┴──────┴───────────┴──────────┴───┴──────┴──────────┴───────────┴────────────────┘"
      ],
      "text/html": [
       "<div><style>\n",
       ".dataframe > thead > tr,\n",
       ".dataframe > tbody > tr {\n",
       "  text-align: right;\n",
       "  white-space: pre-wrap;\n",
       "}\n",
       "</style>\n",
       "<small>shape: (22_671, 22)</small><table border=\"1\" class=\"dataframe\"><thead><tr><th>game_id</th><th>team</th><th>home_away</th><th>opponent</th><th>player</th><th>player_id</th><th>passing_attempts</th><th>passing_touchdowns</th><th>passing_yards</th><th>rushing_attempts</th><th>rushing_yards</th><th>rushing_touchdowns</th><th>receptions</th><th>receiving_yards</th><th>receiving_touchdowns</th><th>fumbles</th><th>interceptions</th><th>season</th><th>week</th><th>position</th><th>curr_team</th><th>fantasy_points</th></tr><tr><td>str</td><td>str</td><td>str</td><td>str</td><td>str</td><td>str</td><td>f64</td><td>f64</td><td>f64</td><td>f64</td><td>f64</td><td>f64</td><td>i32</td><td>f64</td><td>f64</td><td>f64</td><td>f64</td><td>i64</td><td>i64</td><td>str</td><td>str</td><td>f64</td></tr></thead><tbody><tr><td>&quot;2020_07_JAX_LAC&quot;</td><td>&quot;LAC&quot;</td><td>&quot;home&quot;</td><td>&quot;LAC&quot;</td><td>&quot;M.Williams&quot;</td><td>&quot;00-0033536&quot;</td><td>0.0</td><td>0.0</td><td>0.0</td><td>0.0</td><td>0.0</td><td>0.0</td><td>3</td><td>4.0</td><td>0.0</td><td>0.0</td><td>0.0</td><td>2020</td><td>7</td><td>&quot;WR&quot;</td><td>&quot;NYJ&quot;</td><td>1.9</td></tr><tr><td>&quot;2022_12_PIT_IND&quot;</td><td>&quot;PIT&quot;</td><td>&quot;away&quot;</td><td>&quot;PIT&quot;</td><td>&quot;A.McFarland&quot;</td><td>&quot;00-0036336&quot;</td><td>0.0</td><td>0.0</td><td>0.0</td><td>6.0</td><td>30.0</td><td>0.0</td><td>2</td><td>11.0</td><td>0.0</td><td>0.0</td><td>0.0</td><td>2022</td><td>12</td><td>&quot;RB&quot;</td><td>&quot;PIT&quot;</td><td>5.1</td></tr><tr><td>&quot;2022_19_LAC_JAX&quot;</td><td>&quot;LAC&quot;</td><td>&quot;away&quot;</td><td>&quot;LAC&quot;</td><td>&quot;J.Palmer&quot;</td><td>&quot;00-0036988&quot;</td><td>0.0</td><td>0.0</td><td>0.0</td><td>0.0</td><td>0.0</td><td>0.0</td><td>6</td><td>31.0</td><td>0.0</td><td>0.0</td><td>0.0</td><td>2022</td><td>19</td><td>&quot;WR&quot;</td><td>&quot;LAC&quot;</td><td>6.1</td></tr><tr><td>&quot;2021_19_PIT_KC&quot;</td><td>&quot;PIT&quot;</td><td>&quot;away&quot;</td><td>&quot;PIT&quot;</td><td>&quot;B.Roethlisberger&quot;</td><td>&quot;00-0022924&quot;</td><td>46.0</td><td>2.0</td><td>201.0</td><td>2.0</td><td>-1.0</td><td>0.0</td><td>0</td><td>0.0</td><td>0.0</td><td>2.0</td><td>0.0</td><td>2021</td><td>19</td><td>&quot;QB&quot;</td><td>&quot;PIT&quot;</td><td>5.91</td></tr><tr><td>&quot;2023_05_JAX_BUF&quot;</td><td>&quot;BUF&quot;</td><td>&quot;home&quot;</td><td>&quot;BUF&quot;</td><td>&quot;D.Knox&quot;</td><td>&quot;00-0035689&quot;</td><td>0.0</td><td>0.0</td><td>0.0</td><td>0.0</td><td>0.0</td><td>0.0</td><td>6</td><td>17.0</td><td>0.0</td><td>0.0</td><td>0.0</td><td>2023</td><td>5</td><td>&quot;TE&quot;</td><td>&quot;BUF&quot;</td><td>4.7</td></tr><tr><td>&hellip;</td><td>&hellip;</td><td>&hellip;</td><td>&hellip;</td><td>&hellip;</td><td>&hellip;</td><td>&hellip;</td><td>&hellip;</td><td>&hellip;</td><td>&hellip;</td><td>&hellip;</td><td>&hellip;</td><td>&hellip;</td><td>&hellip;</td><td>&hellip;</td><td>&hellip;</td><td>&hellip;</td><td>&hellip;</td><td>&hellip;</td><td>&hellip;</td><td>&hellip;</td><td>&hellip;</td></tr><tr><td>&quot;2022_10_LAC_SF&quot;</td><td>&quot;LAC&quot;</td><td>&quot;away&quot;</td><td>&quot;LAC&quot;</td><td>&quot;A.Ekeler&quot;</td><td>&quot;00-0033699&quot;</td><td>0.0</td><td>0.0</td><td>0.0</td><td>6.0</td><td>24.0</td><td>0.0</td><td>12</td><td>39.0</td><td>0.0</td><td>0.0</td><td>0.0</td><td>2022</td><td>10</td><td>&quot;RB&quot;</td><td>&quot;WAS&quot;</td><td>12.3</td></tr><tr><td>&quot;2021_13_ARI_CHI&quot;</td><td>&quot;ARI&quot;</td><td>&quot;away&quot;</td><td>&quot;ARI&quot;</td><td>&quot;D.Hopkins&quot;</td><td>&quot;00-0030564&quot;</td><td>0.0</td><td>0.0</td><td>0.0</td><td>0.0</td><td>0.0</td><td>0.0</td><td>2</td><td>32.0</td><td>1.0</td><td>0.0</td><td>0.0</td><td>2021</td><td>13</td><td>&quot;WR&quot;</td><td>&quot;TEN&quot;</td><td>10.2</td></tr><tr><td>&quot;2022_06_CIN_NO&quot;</td><td>&quot;CIN&quot;</td><td>&quot;away&quot;</td><td>&quot;CIN&quot;</td><td>&quot;H.Hurst&quot;</td><td>&quot;00-0034830&quot;</td><td>0.0</td><td>0.0</td><td>0.0</td><td>0.0</td><td>0.0</td><td>0.0</td><td>3</td><td>21.0</td><td>0.0</td><td>0.0</td><td>0.0</td><td>2022</td><td>6</td><td>&quot;TE&quot;</td><td>&quot;LAC&quot;</td><td>3.6</td></tr><tr><td>&quot;2023_14_NE_PIT&quot;</td><td>&quot;PIT&quot;</td><td>&quot;home&quot;</td><td>&quot;PIT&quot;</td><td>&quot;N.Harris&quot;</td><td>&quot;00-0036893&quot;</td><td>0.0</td><td>0.0</td><td>0.0</td><td>12.0</td><td>29.0</td><td>0.0</td><td>3</td><td>19.0</td><td>0.0</td><td>0.0</td><td>0.0</td><td>2023</td><td>14</td><td>&quot;RB&quot;</td><td>&quot;PIT&quot;</td><td>6.3</td></tr><tr><td>&quot;2021_12_PIT_CIN&quot;</td><td>&quot;PIT&quot;</td><td>&quot;away&quot;</td><td>&quot;PIT&quot;</td><td>&quot;C.Claypool&quot;</td><td>&quot;00-0036326&quot;</td><td>0.0</td><td>0.0</td><td>0.0</td><td>0.0</td><td>0.0</td><td>0.0</td><td>8</td><td>82.0</td><td>0.0</td><td>0.0</td><td>0.0</td><td>2021</td><td>12</td><td>&quot;WR&quot;</td><td>&quot;BUF&quot;</td><td>12.2</td></tr></tbody></table></div>"
      ]
     },
     "execution_count": 71,
     "metadata": {},
     "output_type": "execute_result"
    }
   ],
   "execution_count": 71
  },
  {
   "metadata": {
    "ExecuteTime": {
     "end_time": "2024-08-11T23:41:32.547470Z",
     "start_time": "2024-08-11T23:41:32.477749Z"
    }
   },
   "cell_type": "code",
   "source": "df.select(pl.struct(['passing_yards', 'passing_touchdowns', 'interceptions', 'receptions', 'receiving_yards', 'receiving_touchdowns', 'rushing_yards', 'rushing_touchdowns', 'fumbles']))",
   "id": "18984514f187b59",
   "outputs": [
    {
     "ename": "ColumnNotFoundError",
     "evalue": "passing_yards",
     "output_type": "error",
     "traceback": [
      "\u001B[0;31m---------------------------------------------------------------------------\u001B[0m",
      "\u001B[0;31mColumnNotFoundError\u001B[0m                       Traceback (most recent call last)",
      "Cell \u001B[0;32mIn[62], line 1\u001B[0m\n\u001B[0;32m----> 1\u001B[0m \u001B[43mdf\u001B[49m\u001B[38;5;241;43m.\u001B[39;49m\u001B[43mselect\u001B[49m\u001B[43m(\u001B[49m\u001B[43mpl\u001B[49m\u001B[38;5;241;43m.\u001B[39;49m\u001B[43mstruct\u001B[49m\u001B[43m(\u001B[49m\u001B[43m[\u001B[49m\u001B[38;5;124;43m'\u001B[39;49m\u001B[38;5;124;43mpassing_yards\u001B[39;49m\u001B[38;5;124;43m'\u001B[39;49m\u001B[43m,\u001B[49m\u001B[43m \u001B[49m\u001B[38;5;124;43m'\u001B[39;49m\u001B[38;5;124;43mpassing_touchdowns\u001B[39;49m\u001B[38;5;124;43m'\u001B[39;49m\u001B[43m,\u001B[49m\u001B[43m \u001B[49m\u001B[38;5;124;43m'\u001B[39;49m\u001B[38;5;124;43minterceptions\u001B[39;49m\u001B[38;5;124;43m'\u001B[39;49m\u001B[43m,\u001B[49m\u001B[43m \u001B[49m\u001B[38;5;124;43m'\u001B[39;49m\u001B[38;5;124;43mreceptions\u001B[39;49m\u001B[38;5;124;43m'\u001B[39;49m\u001B[43m,\u001B[49m\u001B[43m \u001B[49m\u001B[38;5;124;43m'\u001B[39;49m\u001B[38;5;124;43mreceiving_yards\u001B[39;49m\u001B[38;5;124;43m'\u001B[39;49m\u001B[43m,\u001B[49m\u001B[43m \u001B[49m\u001B[38;5;124;43m'\u001B[39;49m\u001B[38;5;124;43mreceiving_touchdowns\u001B[39;49m\u001B[38;5;124;43m'\u001B[39;49m\u001B[43m,\u001B[49m\u001B[43m \u001B[49m\u001B[38;5;124;43m'\u001B[39;49m\u001B[38;5;124;43mrushing_yards\u001B[39;49m\u001B[38;5;124;43m'\u001B[39;49m\u001B[43m,\u001B[49m\u001B[43m \u001B[49m\u001B[38;5;124;43m'\u001B[39;49m\u001B[38;5;124;43mrushing_touchdowns\u001B[39;49m\u001B[38;5;124;43m'\u001B[39;49m\u001B[43m,\u001B[49m\u001B[43m \u001B[49m\u001B[38;5;124;43m'\u001B[39;49m\u001B[38;5;124;43mfumbles\u001B[39;49m\u001B[38;5;124;43m'\u001B[39;49m\u001B[43m]\u001B[49m\u001B[43m)\u001B[49m\u001B[43m)\u001B[49m\n",
      "File \u001B[0;32m~/git/fforacle/venv/lib/python3.9/site-packages/polars/dataframe/frame.py:8717\u001B[0m, in \u001B[0;36mDataFrame.select\u001B[0;34m(self, *exprs, **named_exprs)\u001B[0m\n\u001B[1;32m   8617\u001B[0m \u001B[38;5;28;01mdef\u001B[39;00m \u001B[38;5;21mselect\u001B[39m(\n\u001B[1;32m   8618\u001B[0m     \u001B[38;5;28mself\u001B[39m, \u001B[38;5;241m*\u001B[39mexprs: IntoExpr \u001B[38;5;241m|\u001B[39m Iterable[IntoExpr], \u001B[38;5;241m*\u001B[39m\u001B[38;5;241m*\u001B[39mnamed_exprs: IntoExpr\n\u001B[1;32m   8619\u001B[0m ) \u001B[38;5;241m-\u001B[39m\u001B[38;5;241m>\u001B[39m DataFrame:\n\u001B[1;32m   8620\u001B[0m \u001B[38;5;250m    \u001B[39m\u001B[38;5;124;03m\"\"\"\u001B[39;00m\n\u001B[1;32m   8621\u001B[0m \u001B[38;5;124;03m    Select columns from this DataFrame.\u001B[39;00m\n\u001B[1;32m   8622\u001B[0m \n\u001B[0;32m   (...)\u001B[0m\n\u001B[1;32m   8715\u001B[0m \u001B[38;5;124;03m    └──────────────┘\u001B[39;00m\n\u001B[1;32m   8716\u001B[0m \u001B[38;5;124;03m    \"\"\"\u001B[39;00m\n\u001B[0;32m-> 8717\u001B[0m     \u001B[38;5;28;01mreturn\u001B[39;00m \u001B[38;5;28;43mself\u001B[39;49m\u001B[38;5;241;43m.\u001B[39;49m\u001B[43mlazy\u001B[49m\u001B[43m(\u001B[49m\u001B[43m)\u001B[49m\u001B[38;5;241;43m.\u001B[39;49m\u001B[43mselect\u001B[49m\u001B[43m(\u001B[49m\u001B[38;5;241;43m*\u001B[39;49m\u001B[43mexprs\u001B[49m\u001B[43m,\u001B[49m\u001B[43m \u001B[49m\u001B[38;5;241;43m*\u001B[39;49m\u001B[38;5;241;43m*\u001B[39;49m\u001B[43mnamed_exprs\u001B[49m\u001B[43m)\u001B[49m\u001B[38;5;241;43m.\u001B[39;49m\u001B[43mcollect\u001B[49m\u001B[43m(\u001B[49m\u001B[43m_eager\u001B[49m\u001B[38;5;241;43m=\u001B[39;49m\u001B[38;5;28;43;01mTrue\u001B[39;49;00m\u001B[43m)\u001B[49m\n",
      "File \u001B[0;32m~/git/fforacle/venv/lib/python3.9/site-packages/polars/lazyframe/frame.py:2027\u001B[0m, in \u001B[0;36mLazyFrame.collect\u001B[0;34m(self, type_coercion, predicate_pushdown, projection_pushdown, simplify_expression, slice_pushdown, comm_subplan_elim, comm_subexpr_elim, cluster_with_columns, no_optimization, streaming, engine, background, _eager, **_kwargs)\u001B[0m\n\u001B[1;32m   2025\u001B[0m \u001B[38;5;66;03m# Only for testing purposes\u001B[39;00m\n\u001B[1;32m   2026\u001B[0m callback \u001B[38;5;241m=\u001B[39m _kwargs\u001B[38;5;241m.\u001B[39mget(\u001B[38;5;124m\"\u001B[39m\u001B[38;5;124mpost_opt_callback\u001B[39m\u001B[38;5;124m\"\u001B[39m, callback)\n\u001B[0;32m-> 2027\u001B[0m \u001B[38;5;28;01mreturn\u001B[39;00m wrap_df(\u001B[43mldf\u001B[49m\u001B[38;5;241;43m.\u001B[39;49m\u001B[43mcollect\u001B[49m\u001B[43m(\u001B[49m\u001B[43mcallback\u001B[49m\u001B[43m)\u001B[49m)\n",
      "\u001B[0;31mColumnNotFoundError\u001B[0m: passing_yards"
     ]
    }
   ],
   "execution_count": 62
  },
  {
   "metadata": {},
   "cell_type": "code",
   "outputs": [],
   "execution_count": null,
   "source": "",
   "id": "789147d9ffcfe39e"
  },
  {
   "metadata": {
    "ExecuteTime": {
     "end_time": "2024-08-11T23:39:51.690230Z",
     "start_time": "2024-08-11T23:39:51.687312Z"
    }
   },
   "cell_type": "code",
   "source": [
    "df = pl.DataFrame({\"keys\": [\"a\", \"a\", \"b\"], \"values\": [10, 7, 1]})\n",
    "\n",
    "df"
   ],
   "id": "3456979af8af8314",
   "outputs": [
    {
     "data": {
      "text/plain": [
       "shape: (3, 2)\n",
       "┌──────┬────────┐\n",
       "│ keys ┆ values │\n",
       "│ ---  ┆ ---    │\n",
       "│ str  ┆ i64    │\n",
       "╞══════╪════════╡\n",
       "│ a    ┆ 10     │\n",
       "│ a    ┆ 7      │\n",
       "│ b    ┆ 1      │\n",
       "└──────┴────────┘"
      ],
      "text/html": [
       "<div><style>\n",
       ".dataframe > thead > tr,\n",
       ".dataframe > tbody > tr {\n",
       "  text-align: right;\n",
       "  white-space: pre-wrap;\n",
       "}\n",
       "</style>\n",
       "<small>shape: (3, 2)</small><table border=\"1\" class=\"dataframe\"><thead><tr><th>keys</th><th>values</th></tr><tr><td>str</td><td>i64</td></tr></thead><tbody><tr><td>&quot;a&quot;</td><td>10</td></tr><tr><td>&quot;a&quot;</td><td>7</td></tr><tr><td>&quot;b&quot;</td><td>1</td></tr></tbody></table></div>"
      ]
     },
     "execution_count": 59,
     "metadata": {},
     "output_type": "execute_result"
    }
   ],
   "execution_count": 59
  },
  {
   "metadata": {
    "ExecuteTime": {
     "end_time": "2024-08-11T23:41:19.439883Z",
     "start_time": "2024-08-11T23:41:19.436800Z"
    }
   },
   "cell_type": "code",
   "source": [
    "df.select(\n",
    "    pl.struct([\"keys\", \"values\"]))"
   ],
   "id": "b0f46904e0f3cba",
   "outputs": [
    {
     "data": {
      "text/plain": [
       "shape: (3, 1)\n",
       "┌───────────┐\n",
       "│ keys      │\n",
       "│ ---       │\n",
       "│ struct[2] │\n",
       "╞═══════════╡\n",
       "│ {\"a\",10}  │\n",
       "│ {\"a\",7}   │\n",
       "│ {\"b\",1}   │\n",
       "└───────────┘"
      ],
      "text/html": [
       "<div><style>\n",
       ".dataframe > thead > tr,\n",
       ".dataframe > tbody > tr {\n",
       "  text-align: right;\n",
       "  white-space: pre-wrap;\n",
       "}\n",
       "</style>\n",
       "<small>shape: (3, 1)</small><table border=\"1\" class=\"dataframe\"><thead><tr><th>keys</th></tr><tr><td>struct[2]</td></tr></thead><tbody><tr><td>{&quot;a&quot;,10}</td></tr><tr><td>{&quot;a&quot;,7}</td></tr><tr><td>{&quot;b&quot;,1}</td></tr></tbody></table></div>"
      ]
     },
     "execution_count": 61,
     "metadata": {},
     "output_type": "execute_result"
    }
   ],
   "execution_count": 61
  },
  {
   "metadata": {
    "ExecuteTime": {
     "end_time": "2024-08-11T23:40:30.254590Z",
     "start_time": "2024-08-11T23:40:30.248951Z"
    }
   },
   "cell_type": "code",
   "source": [
    "out = df.select(\n",
    "    pl.struct([\"keys\", \"values\"])\n",
    "    .map_elements(lambda x: len(x[\"keys\"]) + x[\"values\"], return_dtype=pl.Int64)\n",
    "    .alias(\"solution_map_elements\"),\n",
    "    (pl.col(\"keys\").str.len_bytes() + pl.col(\"values\")).alias(\"solution_expr\"),\n",
    ")\n",
    "print(out)"
   ],
   "id": "9972b382ad6cd321",
   "outputs": [
    {
     "name": "stdout",
     "output_type": "stream",
     "text": [
      "shape: (3, 2)\n",
      "┌───────────────────────┬───────────────┐\n",
      "│ solution_map_elements ┆ solution_expr │\n",
      "│ ---                   ┆ ---           │\n",
      "│ i64                   ┆ i64           │\n",
      "╞═══════════════════════╪═══════════════╡\n",
      "│ 11                    ┆ 11            │\n",
      "│ 8                     ┆ 8             │\n",
      "│ 2                     ┆ 2             │\n",
      "└───────────────────────┴───────────────┘\n"
     ]
    }
   ],
   "execution_count": 60
  }
 ],
 "metadata": {
  "kernelspec": {
   "display_name": "Python 3",
   "language": "python",
   "name": "python3"
  },
  "language_info": {
   "codemirror_mode": {
    "name": "ipython",
    "version": 2
   },
   "file_extension": ".py",
   "mimetype": "text/x-python",
   "name": "python",
   "nbconvert_exporter": "python",
   "pygments_lexer": "ipython2",
   "version": "2.7.6"
  }
 },
 "nbformat": 4,
 "nbformat_minor": 5
}
