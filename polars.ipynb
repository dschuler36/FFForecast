{
 "cells": [
  {
   "cell_type": "code",
   "id": "initial_id",
   "metadata": {
    "collapsed": true,
    "ExecuteTime": {
     "end_time": "2024-08-11T18:35:17.536799Z",
     "start_time": "2024-08-11T18:35:17.523689Z"
    }
   },
   "source": [
    "import polars as pl\n",
    "\n",
    "df = pl.read_parquet('./data/outputs/play_by_play_agg/play_by_play_agg_20240809.parquet')"
   ],
   "outputs": [],
   "execution_count": 23
  },
  {
   "metadata": {
    "ExecuteTime": {
     "end_time": "2024-08-11T18:35:19.370018Z",
     "start_time": "2024-08-11T18:35:19.363069Z"
    }
   },
   "cell_type": "code",
   "source": [
    "\n",
    "df"
   ],
   "id": "6a465925563acff7",
   "outputs": [
    {
     "data": {
      "text/plain": [
       "shape: (22_671, 21)\n",
       "┌─────────────────┬──────┬───────────┬──────────┬───┬────────┬──────┬──────────┬───────────┐\n",
       "│ game_id         ┆ team ┆ home_away ┆ opponent ┆ … ┆ season ┆ week ┆ position ┆ curr_team │\n",
       "│ ---             ┆ ---  ┆ ---       ┆ ---      ┆   ┆ ---    ┆ ---  ┆ ---      ┆ ---       │\n",
       "│ str             ┆ str  ┆ str       ┆ str      ┆   ┆ i64    ┆ i64  ┆ str      ┆ str       │\n",
       "╞═════════════════╪══════╪═══════════╪══════════╪═══╪════════╪══════╪══════════╪═══════════╡\n",
       "│ 2022_03_GB_TB   ┆ GB   ┆ away      ┆ GB       ┆ … ┆ 2022   ┆ 3    ┆ RB       ┆ GB        │\n",
       "│ 2020_04_NO_DET  ┆ NO   ┆ away      ┆ NO       ┆ … ┆ 2020   ┆ 4    ┆ RB       ┆ BUF       │\n",
       "│ 2023_14_HOU_NYJ ┆ HOU  ┆ away      ┆ HOU      ┆ … ┆ 2023   ┆ 14   ┆ WR       ┆ HOU       │\n",
       "│ 2021_02_DAL_LAC ┆ DAL  ┆ away      ┆ DAL      ┆ … ┆ 2021   ┆ 2    ┆ WR       ┆ NO        │\n",
       "│ 2023_08_HOU_CAR ┆ HOU  ┆ away      ┆ HOU      ┆ … ┆ 2023   ┆ 8    ┆ RB       ┆ HOU       │\n",
       "│ …               ┆ …    ┆ …         ┆ …        ┆ … ┆ …      ┆ …    ┆ …        ┆ …         │\n",
       "│ 2023_17_NE_BUF  ┆ BUF  ┆ home      ┆ BUF      ┆ … ┆ 2023   ┆ 17   ┆ TE       ┆ BUF       │\n",
       "│ 2020_16_DEN_LAC ┆ DEN  ┆ away      ┆ DEN      ┆ … ┆ 2020   ┆ 16   ┆ WR       ┆ BUF       │\n",
       "│ 2023_07_DET_BAL ┆ BAL  ┆ home      ┆ BAL      ┆ … ┆ 2023   ┆ 7    ┆ RB       ┆ BAL       │\n",
       "│ 2020_07_KC_DEN  ┆ DEN  ┆ home      ┆ DEN      ┆ … ┆ 2020   ┆ 7    ┆ WR       ┆ MIA       │\n",
       "│ 2020_09_LV_LAC  ┆ LAC  ┆ home      ┆ LAC      ┆ … ┆ 2020   ┆ 9    ┆ RB       ┆ LAC       │\n",
       "└─────────────────┴──────┴───────────┴──────────┴───┴────────┴──────┴──────────┴───────────┘"
      ],
      "text/html": [
       "<div><style>\n",
       ".dataframe > thead > tr,\n",
       ".dataframe > tbody > tr {\n",
       "  text-align: right;\n",
       "  white-space: pre-wrap;\n",
       "}\n",
       "</style>\n",
       "<small>shape: (22_671, 21)</small><table border=\"1\" class=\"dataframe\"><thead><tr><th>game_id</th><th>team</th><th>home_away</th><th>opponent</th><th>player</th><th>player_id</th><th>passing_attempts</th><th>passing_yards</th><th>passing_touchdowns</th><th>rushing_attempts</th><th>rushing_yards</th><th>rushing_touchdowns</th><th>receptions</th><th>receiving_yards</th><th>receiving_touchdowns</th><th>fumbles</th><th>interceptions</th><th>season</th><th>week</th><th>position</th><th>curr_team</th></tr><tr><td>str</td><td>str</td><td>str</td><td>str</td><td>str</td><td>str</td><td>list[str]</td><td>list[str]</td><td>list[str]</td><td>list[str]</td><td>list[str]</td><td>list[str]</td><td>list[str]</td><td>list[str]</td><td>list[str]</td><td>list[str]</td><td>list[str]</td><td>i64</td><td>i64</td><td>str</td><td>str</td></tr></thead><tbody><tr><td>&quot;2022_03_GB_TB&quot;</td><td>&quot;GB&quot;</td><td>&quot;away&quot;</td><td>&quot;GB&quot;</td><td>&quot;A.Dillon&quot;</td><td>&quot;00-0036265&quot;</td><td>[&quot;passing_attempts&quot;, &quot;sum&quot;]</td><td>[&quot;passing_yards&quot;, &quot;sum&quot;]</td><td>[&quot;passing_touchdowns&quot;, &quot;sum&quot;]</td><td>[&quot;rushing_attempts&quot;, &quot;sum&quot;]</td><td>[&quot;rushing_yards&quot;, &quot;sum&quot;]</td><td>[&quot;rushing_touchdowns&quot;, &quot;sum&quot;]</td><td>[&quot;receptions&quot;, &quot;sum&quot;]</td><td>[&quot;receiving_yards&quot;, &quot;sum&quot;]</td><td>[&quot;receiving_touchdowns&quot;, &quot;sum&quot;]</td><td>[&quot;fumble&quot;, &quot;sum&quot;]</td><td>[&quot;interception&quot;, &quot;sum&quot;]</td><td>2022</td><td>3</td><td>&quot;RB&quot;</td><td>&quot;GB&quot;</td></tr><tr><td>&quot;2020_04_NO_DET&quot;</td><td>&quot;NO&quot;</td><td>&quot;away&quot;</td><td>&quot;NO&quot;</td><td>&quot;L.Murray&quot;</td><td>&quot;00-0030513&quot;</td><td>[&quot;passing_attempts&quot;, &quot;sum&quot;]</td><td>[&quot;passing_yards&quot;, &quot;sum&quot;]</td><td>[&quot;passing_touchdowns&quot;, &quot;sum&quot;]</td><td>[&quot;rushing_attempts&quot;, &quot;sum&quot;]</td><td>[&quot;rushing_yards&quot;, &quot;sum&quot;]</td><td>[&quot;rushing_touchdowns&quot;, &quot;sum&quot;]</td><td>[&quot;receptions&quot;, &quot;sum&quot;]</td><td>[&quot;receiving_yards&quot;, &quot;sum&quot;]</td><td>[&quot;receiving_touchdowns&quot;, &quot;sum&quot;]</td><td>[&quot;fumble&quot;, &quot;sum&quot;]</td><td>[&quot;interception&quot;, &quot;sum&quot;]</td><td>2020</td><td>4</td><td>&quot;RB&quot;</td><td>&quot;BUF&quot;</td></tr><tr><td>&quot;2023_14_HOU_NYJ&quot;</td><td>&quot;HOU&quot;</td><td>&quot;away&quot;</td><td>&quot;HOU&quot;</td><td>&quot;J.Metchie&quot;</td><td>&quot;00-0037614&quot;</td><td>[&quot;passing_attempts&quot;, &quot;sum&quot;]</td><td>[&quot;passing_yards&quot;, &quot;sum&quot;]</td><td>[&quot;passing_touchdowns&quot;, &quot;sum&quot;]</td><td>[&quot;rushing_attempts&quot;, &quot;sum&quot;]</td><td>[&quot;rushing_yards&quot;, &quot;sum&quot;]</td><td>[&quot;rushing_touchdowns&quot;, &quot;sum&quot;]</td><td>[&quot;receptions&quot;, &quot;sum&quot;]</td><td>[&quot;receiving_yards&quot;, &quot;sum&quot;]</td><td>[&quot;receiving_touchdowns&quot;, &quot;sum&quot;]</td><td>[&quot;fumble&quot;, &quot;sum&quot;]</td><td>[&quot;interception&quot;, &quot;sum&quot;]</td><td>2023</td><td>14</td><td>&quot;WR&quot;</td><td>&quot;HOU&quot;</td></tr><tr><td>&quot;2021_02_DAL_LAC&quot;</td><td>&quot;DAL&quot;</td><td>&quot;away&quot;</td><td>&quot;DAL&quot;</td><td>&quot;C.Wilson&quot;</td><td>&quot;00-0034418&quot;</td><td>[&quot;passing_attempts&quot;, &quot;sum&quot;]</td><td>[&quot;passing_yards&quot;, &quot;sum&quot;]</td><td>[&quot;passing_touchdowns&quot;, &quot;sum&quot;]</td><td>[&quot;rushing_attempts&quot;, &quot;sum&quot;]</td><td>[&quot;rushing_yards&quot;, &quot;sum&quot;]</td><td>[&quot;rushing_touchdowns&quot;, &quot;sum&quot;]</td><td>[&quot;receptions&quot;, &quot;sum&quot;]</td><td>[&quot;receiving_yards&quot;, &quot;sum&quot;]</td><td>[&quot;receiving_touchdowns&quot;, &quot;sum&quot;]</td><td>[&quot;fumble&quot;, &quot;sum&quot;]</td><td>[&quot;interception&quot;, &quot;sum&quot;]</td><td>2021</td><td>2</td><td>&quot;WR&quot;</td><td>&quot;NO&quot;</td></tr><tr><td>&quot;2023_08_HOU_CAR&quot;</td><td>&quot;HOU&quot;</td><td>&quot;away&quot;</td><td>&quot;HOU&quot;</td><td>&quot;D.Pierce&quot;</td><td>&quot;00-0037258&quot;</td><td>[&quot;passing_attempts&quot;, &quot;sum&quot;]</td><td>[&quot;passing_yards&quot;, &quot;sum&quot;]</td><td>[&quot;passing_touchdowns&quot;, &quot;sum&quot;]</td><td>[&quot;rushing_attempts&quot;, &quot;sum&quot;]</td><td>[&quot;rushing_yards&quot;, &quot;sum&quot;]</td><td>[&quot;rushing_touchdowns&quot;, &quot;sum&quot;]</td><td>[&quot;receptions&quot;, &quot;sum&quot;]</td><td>[&quot;receiving_yards&quot;, &quot;sum&quot;]</td><td>[&quot;receiving_touchdowns&quot;, &quot;sum&quot;]</td><td>[&quot;fumble&quot;, &quot;sum&quot;]</td><td>[&quot;interception&quot;, &quot;sum&quot;]</td><td>2023</td><td>8</td><td>&quot;RB&quot;</td><td>&quot;HOU&quot;</td></tr><tr><td>&hellip;</td><td>&hellip;</td><td>&hellip;</td><td>&hellip;</td><td>&hellip;</td><td>&hellip;</td><td>&hellip;</td><td>&hellip;</td><td>&hellip;</td><td>&hellip;</td><td>&hellip;</td><td>&hellip;</td><td>&hellip;</td><td>&hellip;</td><td>&hellip;</td><td>&hellip;</td><td>&hellip;</td><td>&hellip;</td><td>&hellip;</td><td>&hellip;</td><td>&hellip;</td></tr><tr><td>&quot;2023_17_NE_BUF&quot;</td><td>&quot;BUF&quot;</td><td>&quot;home&quot;</td><td>&quot;BUF&quot;</td><td>&quot;D.Knox&quot;</td><td>&quot;00-0035689&quot;</td><td>[&quot;passing_attempts&quot;, &quot;sum&quot;]</td><td>[&quot;passing_yards&quot;, &quot;sum&quot;]</td><td>[&quot;passing_touchdowns&quot;, &quot;sum&quot;]</td><td>[&quot;rushing_attempts&quot;, &quot;sum&quot;]</td><td>[&quot;rushing_yards&quot;, &quot;sum&quot;]</td><td>[&quot;rushing_touchdowns&quot;, &quot;sum&quot;]</td><td>[&quot;receptions&quot;, &quot;sum&quot;]</td><td>[&quot;receiving_yards&quot;, &quot;sum&quot;]</td><td>[&quot;receiving_touchdowns&quot;, &quot;sum&quot;]</td><td>[&quot;fumble&quot;, &quot;sum&quot;]</td><td>[&quot;interception&quot;, &quot;sum&quot;]</td><td>2023</td><td>17</td><td>&quot;TE&quot;</td><td>&quot;BUF&quot;</td></tr><tr><td>&quot;2020_16_DEN_LAC&quot;</td><td>&quot;DEN&quot;</td><td>&quot;away&quot;</td><td>&quot;DEN&quot;</td><td>&quot;K.Hamler&quot;</td><td>&quot;00-0036412&quot;</td><td>[&quot;passing_attempts&quot;, &quot;sum&quot;]</td><td>[&quot;passing_yards&quot;, &quot;sum&quot;]</td><td>[&quot;passing_touchdowns&quot;, &quot;sum&quot;]</td><td>[&quot;rushing_attempts&quot;, &quot;sum&quot;]</td><td>[&quot;rushing_yards&quot;, &quot;sum&quot;]</td><td>[&quot;rushing_touchdowns&quot;, &quot;sum&quot;]</td><td>[&quot;receptions&quot;, &quot;sum&quot;]</td><td>[&quot;receiving_yards&quot;, &quot;sum&quot;]</td><td>[&quot;receiving_touchdowns&quot;, &quot;sum&quot;]</td><td>[&quot;fumble&quot;, &quot;sum&quot;]</td><td>[&quot;interception&quot;, &quot;sum&quot;]</td><td>2020</td><td>16</td><td>&quot;WR&quot;</td><td>&quot;BUF&quot;</td></tr><tr><td>&quot;2023_07_DET_BAL&quot;</td><td>&quot;BAL&quot;</td><td>&quot;home&quot;</td><td>&quot;BAL&quot;</td><td>&quot;J.Hill&quot;</td><td>&quot;00-0034975&quot;</td><td>[&quot;passing_attempts&quot;, &quot;sum&quot;]</td><td>[&quot;passing_yards&quot;, &quot;sum&quot;]</td><td>[&quot;passing_touchdowns&quot;, &quot;sum&quot;]</td><td>[&quot;rushing_attempts&quot;, &quot;sum&quot;]</td><td>[&quot;rushing_yards&quot;, &quot;sum&quot;]</td><td>[&quot;rushing_touchdowns&quot;, &quot;sum&quot;]</td><td>[&quot;receptions&quot;, &quot;sum&quot;]</td><td>[&quot;receiving_yards&quot;, &quot;sum&quot;]</td><td>[&quot;receiving_touchdowns&quot;, &quot;sum&quot;]</td><td>[&quot;fumble&quot;, &quot;sum&quot;]</td><td>[&quot;interception&quot;, &quot;sum&quot;]</td><td>2023</td><td>7</td><td>&quot;RB&quot;</td><td>&quot;BAL&quot;</td></tr><tr><td>&quot;2020_07_KC_DEN&quot;</td><td>&quot;DEN&quot;</td><td>&quot;home&quot;</td><td>&quot;DEN&quot;</td><td>&quot;D.Hamilton&quot;</td><td>&quot;00-0034370&quot;</td><td>[&quot;passing_attempts&quot;, &quot;sum&quot;]</td><td>[&quot;passing_yards&quot;, &quot;sum&quot;]</td><td>[&quot;passing_touchdowns&quot;, &quot;sum&quot;]</td><td>[&quot;rushing_attempts&quot;, &quot;sum&quot;]</td><td>[&quot;rushing_yards&quot;, &quot;sum&quot;]</td><td>[&quot;rushing_touchdowns&quot;, &quot;sum&quot;]</td><td>[&quot;receptions&quot;, &quot;sum&quot;]</td><td>[&quot;receiving_yards&quot;, &quot;sum&quot;]</td><td>[&quot;receiving_touchdowns&quot;, &quot;sum&quot;]</td><td>[&quot;fumble&quot;, &quot;sum&quot;]</td><td>[&quot;interception&quot;, &quot;sum&quot;]</td><td>2020</td><td>7</td><td>&quot;WR&quot;</td><td>&quot;MIA&quot;</td></tr><tr><td>&quot;2020_09_LV_LAC&quot;</td><td>&quot;LAC&quot;</td><td>&quot;home&quot;</td><td>&quot;LAC&quot;</td><td>&quot;J.Kelley&quot;</td><td>&quot;00-0036370&quot;</td><td>[&quot;passing_attempts&quot;, &quot;sum&quot;]</td><td>[&quot;passing_yards&quot;, &quot;sum&quot;]</td><td>[&quot;passing_touchdowns&quot;, &quot;sum&quot;]</td><td>[&quot;rushing_attempts&quot;, &quot;sum&quot;]</td><td>[&quot;rushing_yards&quot;, &quot;sum&quot;]</td><td>[&quot;rushing_touchdowns&quot;, &quot;sum&quot;]</td><td>[&quot;receptions&quot;, &quot;sum&quot;]</td><td>[&quot;receiving_yards&quot;, &quot;sum&quot;]</td><td>[&quot;receiving_touchdowns&quot;, &quot;sum&quot;]</td><td>[&quot;fumble&quot;, &quot;sum&quot;]</td><td>[&quot;interception&quot;, &quot;sum&quot;]</td><td>2020</td><td>9</td><td>&quot;RB&quot;</td><td>&quot;LAC&quot;</td></tr></tbody></table></div>"
      ]
     },
     "execution_count": 24,
     "metadata": {},
     "output_type": "execute_result"
    }
   ],
   "execution_count": 24
  }
 ],
 "metadata": {
  "kernelspec": {
   "display_name": "Python 3",
   "language": "python",
   "name": "python3"
  },
  "language_info": {
   "codemirror_mode": {
    "name": "ipython",
    "version": 2
   },
   "file_extension": ".py",
   "mimetype": "text/x-python",
   "name": "python",
   "nbconvert_exporter": "python",
   "pygments_lexer": "ipython2",
   "version": "2.7.6"
  }
 },
 "nbformat": 4,
 "nbformat_minor": 5
}
